{
 "cells": [
  {
   "cell_type": "markdown",
   "metadata": {},
   "source": [
    "# Logistic Regression -  Mushroom Data"
   ]
  },
  {
   "cell_type": "code",
   "execution_count": 2,
   "metadata": {},
   "outputs": [],
   "source": [
    "# Import Important Libraries\n",
    "from sklearn.linear_model import LogisticRegression # importing Sklearn's logistic regression's module\n",
    "from sklearn import preprocessing # preprossing is what we do with the data before we run the learning algorithm\n",
    "from sklearn.model_selection import train_test_split\n",
    "from sklearn.preprocessing import LabelEncoder \n",
    "from sklearn.metrics import precision_recall_fscore_support\n",
    "\n",
    "import numpy as np\n",
    "import math\n",
    "import pandas as pd\n",
    "\n",
    "import matplotlib.pyplot as plt\n",
    "%matplotlib inline"
   ]
  },
  {
   "cell_type": "markdown",
   "metadata": {},
   "source": [
    "## Reading the data"
   ]
  },
  {
   "cell_type": "code",
   "execution_count": 3,
   "metadata": {},
   "outputs": [
    {
     "data": {
      "text/html": [
       "<div>\n",
       "<style scoped>\n",
       "    .dataframe tbody tr th:only-of-type {\n",
       "        vertical-align: middle;\n",
       "    }\n",
       "\n",
       "    .dataframe tbody tr th {\n",
       "        vertical-align: top;\n",
       "    }\n",
       "\n",
       "    .dataframe thead th {\n",
       "        text-align: right;\n",
       "    }\n",
       "</style>\n",
       "<table border=\"1\" class=\"dataframe\">\n",
       "  <thead>\n",
       "    <tr style=\"text-align: right;\">\n",
       "      <th></th>\n",
       "      <th>class</th>\n",
       "      <th>cap-shape</th>\n",
       "      <th>cap-surface</th>\n",
       "      <th>cap-color</th>\n",
       "      <th>bruises</th>\n",
       "      <th>odor</th>\n",
       "      <th>gill-attachment</th>\n",
       "      <th>gill-spacing</th>\n",
       "      <th>gill-size</th>\n",
       "      <th>gill-color</th>\n",
       "      <th>...</th>\n",
       "      <th>stalk-surface-below-ring</th>\n",
       "      <th>stalk-color-above-ring</th>\n",
       "      <th>stalk-color-below-ring</th>\n",
       "      <th>veil-type</th>\n",
       "      <th>veil-color</th>\n",
       "      <th>ring-number</th>\n",
       "      <th>ring-type</th>\n",
       "      <th>spore-print-color</th>\n",
       "      <th>population</th>\n",
       "      <th>habitat</th>\n",
       "    </tr>\n",
       "  </thead>\n",
       "  <tbody>\n",
       "    <tr>\n",
       "      <th>0</th>\n",
       "      <td>p</td>\n",
       "      <td>x</td>\n",
       "      <td>s</td>\n",
       "      <td>n</td>\n",
       "      <td>t</td>\n",
       "      <td>p</td>\n",
       "      <td>f</td>\n",
       "      <td>c</td>\n",
       "      <td>n</td>\n",
       "      <td>k</td>\n",
       "      <td>...</td>\n",
       "      <td>s</td>\n",
       "      <td>w</td>\n",
       "      <td>w</td>\n",
       "      <td>p</td>\n",
       "      <td>w</td>\n",
       "      <td>o</td>\n",
       "      <td>p</td>\n",
       "      <td>k</td>\n",
       "      <td>s</td>\n",
       "      <td>u</td>\n",
       "    </tr>\n",
       "    <tr>\n",
       "      <th>1</th>\n",
       "      <td>e</td>\n",
       "      <td>x</td>\n",
       "      <td>s</td>\n",
       "      <td>y</td>\n",
       "      <td>t</td>\n",
       "      <td>a</td>\n",
       "      <td>f</td>\n",
       "      <td>c</td>\n",
       "      <td>b</td>\n",
       "      <td>k</td>\n",
       "      <td>...</td>\n",
       "      <td>s</td>\n",
       "      <td>w</td>\n",
       "      <td>w</td>\n",
       "      <td>p</td>\n",
       "      <td>w</td>\n",
       "      <td>o</td>\n",
       "      <td>p</td>\n",
       "      <td>n</td>\n",
       "      <td>n</td>\n",
       "      <td>g</td>\n",
       "    </tr>\n",
       "    <tr>\n",
       "      <th>2</th>\n",
       "      <td>e</td>\n",
       "      <td>b</td>\n",
       "      <td>s</td>\n",
       "      <td>w</td>\n",
       "      <td>t</td>\n",
       "      <td>l</td>\n",
       "      <td>f</td>\n",
       "      <td>c</td>\n",
       "      <td>b</td>\n",
       "      <td>n</td>\n",
       "      <td>...</td>\n",
       "      <td>s</td>\n",
       "      <td>w</td>\n",
       "      <td>w</td>\n",
       "      <td>p</td>\n",
       "      <td>w</td>\n",
       "      <td>o</td>\n",
       "      <td>p</td>\n",
       "      <td>n</td>\n",
       "      <td>n</td>\n",
       "      <td>m</td>\n",
       "    </tr>\n",
       "    <tr>\n",
       "      <th>3</th>\n",
       "      <td>p</td>\n",
       "      <td>x</td>\n",
       "      <td>y</td>\n",
       "      <td>w</td>\n",
       "      <td>t</td>\n",
       "      <td>p</td>\n",
       "      <td>f</td>\n",
       "      <td>c</td>\n",
       "      <td>n</td>\n",
       "      <td>n</td>\n",
       "      <td>...</td>\n",
       "      <td>s</td>\n",
       "      <td>w</td>\n",
       "      <td>w</td>\n",
       "      <td>p</td>\n",
       "      <td>w</td>\n",
       "      <td>o</td>\n",
       "      <td>p</td>\n",
       "      <td>k</td>\n",
       "      <td>s</td>\n",
       "      <td>u</td>\n",
       "    </tr>\n",
       "    <tr>\n",
       "      <th>4</th>\n",
       "      <td>e</td>\n",
       "      <td>x</td>\n",
       "      <td>s</td>\n",
       "      <td>g</td>\n",
       "      <td>f</td>\n",
       "      <td>n</td>\n",
       "      <td>f</td>\n",
       "      <td>w</td>\n",
       "      <td>b</td>\n",
       "      <td>k</td>\n",
       "      <td>...</td>\n",
       "      <td>s</td>\n",
       "      <td>w</td>\n",
       "      <td>w</td>\n",
       "      <td>p</td>\n",
       "      <td>w</td>\n",
       "      <td>o</td>\n",
       "      <td>e</td>\n",
       "      <td>n</td>\n",
       "      <td>a</td>\n",
       "      <td>g</td>\n",
       "    </tr>\n",
       "  </tbody>\n",
       "</table>\n",
       "<p>5 rows × 23 columns</p>\n",
       "</div>"
      ],
      "text/plain": [
       "  class cap-shape cap-surface cap-color bruises odor gill-attachment  \\\n",
       "0     p         x           s         n       t    p               f   \n",
       "1     e         x           s         y       t    a               f   \n",
       "2     e         b           s         w       t    l               f   \n",
       "3     p         x           y         w       t    p               f   \n",
       "4     e         x           s         g       f    n               f   \n",
       "\n",
       "  gill-spacing gill-size gill-color  ... stalk-surface-below-ring  \\\n",
       "0            c         n          k  ...                        s   \n",
       "1            c         b          k  ...                        s   \n",
       "2            c         b          n  ...                        s   \n",
       "3            c         n          n  ...                        s   \n",
       "4            w         b          k  ...                        s   \n",
       "\n",
       "  stalk-color-above-ring stalk-color-below-ring veil-type veil-color  \\\n",
       "0                      w                      w         p          w   \n",
       "1                      w                      w         p          w   \n",
       "2                      w                      w         p          w   \n",
       "3                      w                      w         p          w   \n",
       "4                      w                      w         p          w   \n",
       "\n",
       "  ring-number ring-type spore-print-color population habitat  \n",
       "0           o         p                 k          s       u  \n",
       "1           o         p                 n          n       g  \n",
       "2           o         p                 n          n       m  \n",
       "3           o         p                 k          s       u  \n",
       "4           o         e                 n          a       g  \n",
       "\n",
       "[5 rows x 23 columns]"
      ]
     },
     "execution_count": 3,
     "metadata": {},
     "output_type": "execute_result"
    }
   ],
   "source": [
    "# Read the csv into dataframe\n",
    "df_raw = pd.read_csv('mushrooms.csv', engine='python')\n",
    "df_raw.head()"
   ]
  },
  {
   "cell_type": "code",
   "execution_count": 4,
   "metadata": {},
   "outputs": [
    {
     "data": {
      "text/html": [
       "<div>\n",
       "<style scoped>\n",
       "    .dataframe tbody tr th:only-of-type {\n",
       "        vertical-align: middle;\n",
       "    }\n",
       "\n",
       "    .dataframe tbody tr th {\n",
       "        vertical-align: top;\n",
       "    }\n",
       "\n",
       "    .dataframe thead th {\n",
       "        text-align: right;\n",
       "    }\n",
       "</style>\n",
       "<table border=\"1\" class=\"dataframe\">\n",
       "  <thead>\n",
       "    <tr style=\"text-align: right;\">\n",
       "      <th></th>\n",
       "      <th>class</th>\n",
       "      <th>cap-shape</th>\n",
       "      <th>cap-surface</th>\n",
       "      <th>cap-color</th>\n",
       "      <th>bruises</th>\n",
       "      <th>odor</th>\n",
       "      <th>gill-attachment</th>\n",
       "      <th>gill-spacing</th>\n",
       "      <th>gill-size</th>\n",
       "      <th>gill-color</th>\n",
       "      <th>...</th>\n",
       "      <th>stalk-surface-below-ring</th>\n",
       "      <th>stalk-color-above-ring</th>\n",
       "      <th>stalk-color-below-ring</th>\n",
       "      <th>veil-type</th>\n",
       "      <th>veil-color</th>\n",
       "      <th>ring-number</th>\n",
       "      <th>ring-type</th>\n",
       "      <th>spore-print-color</th>\n",
       "      <th>population</th>\n",
       "      <th>habitat</th>\n",
       "    </tr>\n",
       "  </thead>\n",
       "  <tbody>\n",
       "    <tr>\n",
       "      <th>0</th>\n",
       "      <td>1</td>\n",
       "      <td>5</td>\n",
       "      <td>2</td>\n",
       "      <td>4</td>\n",
       "      <td>1</td>\n",
       "      <td>6</td>\n",
       "      <td>1</td>\n",
       "      <td>0</td>\n",
       "      <td>1</td>\n",
       "      <td>4</td>\n",
       "      <td>...</td>\n",
       "      <td>2</td>\n",
       "      <td>7</td>\n",
       "      <td>7</td>\n",
       "      <td>0</td>\n",
       "      <td>2</td>\n",
       "      <td>1</td>\n",
       "      <td>4</td>\n",
       "      <td>2</td>\n",
       "      <td>3</td>\n",
       "      <td>5</td>\n",
       "    </tr>\n",
       "    <tr>\n",
       "      <th>1</th>\n",
       "      <td>0</td>\n",
       "      <td>5</td>\n",
       "      <td>2</td>\n",
       "      <td>9</td>\n",
       "      <td>1</td>\n",
       "      <td>0</td>\n",
       "      <td>1</td>\n",
       "      <td>0</td>\n",
       "      <td>0</td>\n",
       "      <td>4</td>\n",
       "      <td>...</td>\n",
       "      <td>2</td>\n",
       "      <td>7</td>\n",
       "      <td>7</td>\n",
       "      <td>0</td>\n",
       "      <td>2</td>\n",
       "      <td>1</td>\n",
       "      <td>4</td>\n",
       "      <td>3</td>\n",
       "      <td>2</td>\n",
       "      <td>1</td>\n",
       "    </tr>\n",
       "    <tr>\n",
       "      <th>2</th>\n",
       "      <td>0</td>\n",
       "      <td>0</td>\n",
       "      <td>2</td>\n",
       "      <td>8</td>\n",
       "      <td>1</td>\n",
       "      <td>3</td>\n",
       "      <td>1</td>\n",
       "      <td>0</td>\n",
       "      <td>0</td>\n",
       "      <td>5</td>\n",
       "      <td>...</td>\n",
       "      <td>2</td>\n",
       "      <td>7</td>\n",
       "      <td>7</td>\n",
       "      <td>0</td>\n",
       "      <td>2</td>\n",
       "      <td>1</td>\n",
       "      <td>4</td>\n",
       "      <td>3</td>\n",
       "      <td>2</td>\n",
       "      <td>3</td>\n",
       "    </tr>\n",
       "    <tr>\n",
       "      <th>3</th>\n",
       "      <td>1</td>\n",
       "      <td>5</td>\n",
       "      <td>3</td>\n",
       "      <td>8</td>\n",
       "      <td>1</td>\n",
       "      <td>6</td>\n",
       "      <td>1</td>\n",
       "      <td>0</td>\n",
       "      <td>1</td>\n",
       "      <td>5</td>\n",
       "      <td>...</td>\n",
       "      <td>2</td>\n",
       "      <td>7</td>\n",
       "      <td>7</td>\n",
       "      <td>0</td>\n",
       "      <td>2</td>\n",
       "      <td>1</td>\n",
       "      <td>4</td>\n",
       "      <td>2</td>\n",
       "      <td>3</td>\n",
       "      <td>5</td>\n",
       "    </tr>\n",
       "    <tr>\n",
       "      <th>4</th>\n",
       "      <td>0</td>\n",
       "      <td>5</td>\n",
       "      <td>2</td>\n",
       "      <td>3</td>\n",
       "      <td>0</td>\n",
       "      <td>5</td>\n",
       "      <td>1</td>\n",
       "      <td>1</td>\n",
       "      <td>0</td>\n",
       "      <td>4</td>\n",
       "      <td>...</td>\n",
       "      <td>2</td>\n",
       "      <td>7</td>\n",
       "      <td>7</td>\n",
       "      <td>0</td>\n",
       "      <td>2</td>\n",
       "      <td>1</td>\n",
       "      <td>0</td>\n",
       "      <td>3</td>\n",
       "      <td>0</td>\n",
       "      <td>1</td>\n",
       "    </tr>\n",
       "  </tbody>\n",
       "</table>\n",
       "<p>5 rows × 23 columns</p>\n",
       "</div>"
      ],
      "text/plain": [
       "   class  cap-shape  cap-surface  cap-color  bruises  odor  gill-attachment  \\\n",
       "0      1          5            2          4        1     6                1   \n",
       "1      0          5            2          9        1     0                1   \n",
       "2      0          0            2          8        1     3                1   \n",
       "3      1          5            3          8        1     6                1   \n",
       "4      0          5            2          3        0     5                1   \n",
       "\n",
       "   gill-spacing  gill-size  gill-color  ...  stalk-surface-below-ring  \\\n",
       "0             0          1           4  ...                         2   \n",
       "1             0          0           4  ...                         2   \n",
       "2             0          0           5  ...                         2   \n",
       "3             0          1           5  ...                         2   \n",
       "4             1          0           4  ...                         2   \n",
       "\n",
       "   stalk-color-above-ring  stalk-color-below-ring  veil-type  veil-color  \\\n",
       "0                       7                       7          0           2   \n",
       "1                       7                       7          0           2   \n",
       "2                       7                       7          0           2   \n",
       "3                       7                       7          0           2   \n",
       "4                       7                       7          0           2   \n",
       "\n",
       "   ring-number  ring-type  spore-print-color  population  habitat  \n",
       "0            1          4                  2           3        5  \n",
       "1            1          4                  3           2        1  \n",
       "2            1          4                  3           2        3  \n",
       "3            1          4                  2           3        5  \n",
       "4            1          0                  3           0        1  \n",
       "\n",
       "[5 rows x 23 columns]"
      ]
     },
     "execution_count": 4,
     "metadata": {},
     "output_type": "execute_result"
    }
   ],
   "source": [
    "# Since the data is not numeric, transform the data to numerical values\n",
    "df = df_raw\n",
    "for col in df_raw.columns:\n",
    "    df[col] = LabelEncoder().fit_transform(df_raw[col])\n",
    "df.head()"
   ]
  },
  {
   "cell_type": "code",
   "execution_count": 5,
   "metadata": {},
   "outputs": [
    {
     "name": "stdout",
     "output_type": "stream",
     "text": [
      "                             class  cap-shape  cap-surface  cap-color  \\\n",
      "class                     1.000000   0.052951     0.178446  -0.031384   \n",
      "cap-shape                 0.052951   1.000000    -0.050454  -0.048203   \n",
      "cap-surface               0.178446  -0.050454     1.000000  -0.019402   \n",
      "cap-color                -0.031384  -0.048203    -0.019402   1.000000   \n",
      "bruises                  -0.501530  -0.035374     0.070228  -0.000764   \n",
      "odor                     -0.093552  -0.021935     0.045233  -0.387121   \n",
      "gill-attachment           0.129200   0.078865    -0.034180   0.041436   \n",
      "gill-spacing             -0.348387   0.013196    -0.282306   0.144259   \n",
      "gill-size                 0.540024   0.054050     0.208100  -0.169464   \n",
      "gill-color               -0.530566  -0.006039    -0.161017   0.084659   \n",
      "stalk-shape              -0.102019   0.063794    -0.014123  -0.456496   \n",
      "stalk-root               -0.379361   0.030191    -0.126245   0.321274   \n",
      "stalk-surface-above-ring -0.334593  -0.030417     0.089090  -0.060837   \n",
      "stalk-surface-below-ring -0.298801  -0.032591     0.107965  -0.047710   \n",
      "stalk-color-above-ring   -0.154003  -0.031659     0.066050   0.002364   \n",
      "stalk-color-below-ring   -0.146730  -0.030390     0.068885   0.008057   \n",
      "veil-type                      NaN        NaN          NaN        NaN   \n",
      "veil-color                0.145142   0.072560    -0.016603   0.036130   \n",
      "ring-number              -0.214366  -0.106534    -0.026147  -0.005822   \n",
      "ring-type                -0.411771  -0.025457    -0.106407   0.162513   \n",
      "spore-print-color         0.171961  -0.073416     0.230364  -0.293523   \n",
      "population                0.298686   0.063413     0.021555  -0.144770   \n",
      "habitat                   0.217179  -0.042221     0.163887   0.033925   \n",
      "\n",
      "                           bruises      odor  gill-attachment  gill-spacing  \\\n",
      "class                    -0.501530 -0.093552         0.129200     -0.348387   \n",
      "cap-shape                -0.035374 -0.021935         0.078865      0.013196   \n",
      "cap-surface               0.070228  0.045233        -0.034180     -0.282306   \n",
      "cap-color                -0.000764 -0.387121         0.041436      0.144259   \n",
      "bruises                   1.000000 -0.061825         0.137359     -0.299473   \n",
      "odor                     -0.061825  1.000000        -0.059590      0.063936   \n",
      "gill-attachment           0.137359 -0.059590         1.000000      0.071489   \n",
      "gill-spacing             -0.299473  0.063936         0.071489      1.000000   \n",
      "gill-size                -0.369596  0.310495         0.108984     -0.108333   \n",
      "gill-color                0.527120 -0.129213        -0.128567      0.100193   \n",
      "stalk-shape               0.099364  0.459766         0.186485      0.080895   \n",
      "stalk-root                0.244188 -0.205215         0.144063      0.350548   \n",
      "stalk-surface-above-ring  0.460824  0.118617        -0.088916     -0.212359   \n",
      "stalk-surface-below-ring  0.458983  0.061820        -0.116177     -0.213775   \n",
      "stalk-color-above-ring    0.083538  0.174532         0.099299      0.274574   \n",
      "stalk-color-below-ring    0.092874  0.169407         0.097160      0.253505   \n",
      "veil-type                      NaN       NaN              NaN           NaN   \n",
      "veil-color                0.119770 -0.057747         0.897518      0.073363   \n",
      "ring-number               0.056788  0.111905         0.093236      0.243014   \n",
      "ring-type                 0.692973 -0.281387        -0.146689     -0.195897   \n",
      "spore-print-color        -0.285008  0.469055        -0.029524      0.047323   \n",
      "population                0.088137 -0.043623         0.165575     -0.529253   \n",
      "habitat                  -0.075095 -0.026610        -0.030304     -0.154680   \n",
      "\n",
      "                          gill-size  gill-color  ...  \\\n",
      "class                      0.540024   -0.530566  ...   \n",
      "cap-shape                  0.054050   -0.006039  ...   \n",
      "cap-surface                0.208100   -0.161017  ...   \n",
      "cap-color                 -0.169464    0.084659  ...   \n",
      "bruises                   -0.369596    0.527120  ...   \n",
      "odor                       0.310495   -0.129213  ...   \n",
      "gill-attachment            0.108984   -0.128567  ...   \n",
      "gill-spacing              -0.108333    0.100193  ...   \n",
      "gill-size                  1.000000   -0.516736  ...   \n",
      "gill-color                -0.516736    1.000000  ...   \n",
      "stalk-shape                0.214576   -0.175699  ...   \n",
      "stalk-root                -0.344345    0.315080  ...   \n",
      "stalk-surface-above-ring   0.056310    0.224287  ...   \n",
      "stalk-surface-below-ring   0.010894    0.257224  ...   \n",
      "stalk-color-above-ring     0.296548   -0.058299  ...   \n",
      "stalk-color-below-ring     0.278708   -0.074781  ...   \n",
      "veil-type                       NaN         NaN  ...   \n",
      "veil-color                 0.103809   -0.097583  ...   \n",
      "ring-number               -0.171362    0.096054  ...   \n",
      "ring-type                 -0.460872    0.629398  ...   \n",
      "spore-print-color          0.622991   -0.416135  ...   \n",
      "population                 0.147682   -0.034090  ...   \n",
      "habitat                    0.161418   -0.202972  ...   \n",
      "\n",
      "                          stalk-surface-below-ring  stalk-color-above-ring  \\\n",
      "class                                    -0.298801               -0.154003   \n",
      "cap-shape                                -0.032591               -0.031659   \n",
      "cap-surface                               0.107965                0.066050   \n",
      "cap-color                                -0.047710                0.002364   \n",
      "bruises                                   0.458983                0.083538   \n",
      "odor                                      0.061820                0.174532   \n",
      "gill-attachment                          -0.116177                0.099299   \n",
      "gill-spacing                             -0.213775                0.274574   \n",
      "gill-size                                 0.010894                0.296548   \n",
      "gill-color                                0.257224               -0.058299   \n",
      "stalk-shape                              -0.034399                0.223439   \n",
      "stalk-root                                0.087454                0.157140   \n",
      "stalk-surface-above-ring                  0.437164                0.132708   \n",
      "stalk-surface-below-ring                  1.000000                0.106933   \n",
      "stalk-color-above-ring                    0.106933                1.000000   \n",
      "stalk-color-below-ring                    0.110656                0.491510   \n",
      "veil-type                                      NaN                     NaN   \n",
      "veil-color                               -0.077284                0.067377   \n",
      "ring-number                               0.040006                0.084917   \n",
      "ring-type                                 0.394644               -0.048878   \n",
      "spore-print-color                         0.130974                0.271533   \n",
      "population                                0.046797               -0.240261   \n",
      "habitat                                  -0.039628                0.042561   \n",
      "\n",
      "                          stalk-color-below-ring  veil-type  veil-color  \\\n",
      "class                                  -0.146730        NaN    0.145142   \n",
      "cap-shape                              -0.030390        NaN    0.072560   \n",
      "cap-surface                             0.068885        NaN   -0.016603   \n",
      "cap-color                               0.008057        NaN    0.036130   \n",
      "bruises                                 0.092874        NaN    0.119770   \n",
      "odor                                    0.169407        NaN   -0.057747   \n",
      "gill-attachment                         0.097160        NaN    0.897518   \n",
      "gill-spacing                            0.253505        NaN    0.073363   \n",
      "gill-size                               0.278708        NaN    0.103809   \n",
      "gill-color                             -0.074781        NaN   -0.097583   \n",
      "stalk-shape                             0.235794        NaN    0.162604   \n",
      "stalk-root                              0.159805        NaN    0.156213   \n",
      "stalk-surface-above-ring                0.142835        NaN   -0.090591   \n",
      "stalk-surface-below-ring                0.110656        NaN   -0.077284   \n",
      "stalk-color-above-ring                  0.491510        NaN    0.067377   \n",
      "stalk-color-below-ring                  1.000000        NaN    0.065567   \n",
      "veil-type                                    NaN        NaN         NaN   \n",
      "veil-color                              0.065567        NaN    1.000000   \n",
      "ring-number                             0.087580        NaN    0.036380   \n",
      "ring-type                              -0.034284        NaN   -0.143673   \n",
      "spore-print-color                       0.254518        NaN   -0.003600   \n",
      "population                             -0.242792        NaN    0.124924   \n",
      "habitat                                 0.041594        NaN   -0.040581   \n",
      "\n",
      "                          ring-number  ring-type  spore-print-color  \\\n",
      "class                       -0.214366  -0.411771           0.171961   \n",
      "cap-shape                   -0.106534  -0.025457          -0.073416   \n",
      "cap-surface                 -0.026147  -0.106407           0.230364   \n",
      "cap-color                   -0.005822   0.162513          -0.293523   \n",
      "bruises                      0.056788   0.692973          -0.285008   \n",
      "odor                         0.111905  -0.281387           0.469055   \n",
      "gill-attachment              0.093236  -0.146689          -0.029524   \n",
      "gill-spacing                 0.243014  -0.195897           0.047323   \n",
      "gill-size                   -0.171362  -0.460872           0.622991   \n",
      "gill-color                   0.096054   0.629398          -0.416135   \n",
      "stalk-shape                 -0.293221  -0.291444           0.258831   \n",
      "stalk-root                  -0.247357   0.210155          -0.536996   \n",
      "stalk-surface-above-ring     0.107904   0.390091           0.100764   \n",
      "stalk-surface-below-ring     0.040006   0.394644           0.130974   \n",
      "stalk-color-above-ring       0.084917  -0.048878           0.271533   \n",
      "stalk-color-below-ring       0.087580  -0.034284           0.254518   \n",
      "veil-type                         NaN        NaN                NaN   \n",
      "veil-color                   0.036380  -0.143673          -0.003600   \n",
      "ring-number                  1.000000   0.058312           0.338417   \n",
      "ring-type                    0.058312   1.000000          -0.487048   \n",
      "spore-print-color            0.338417  -0.487048           1.000000   \n",
      "population                  -0.242020   0.211763          -0.126859   \n",
      "habitat                      0.235835  -0.212080           0.185954   \n",
      "\n",
      "                          population   habitat  \n",
      "class                       0.298686  0.217179  \n",
      "cap-shape                   0.063413 -0.042221  \n",
      "cap-surface                 0.021555  0.163887  \n",
      "cap-color                  -0.144770  0.033925  \n",
      "bruises                     0.088137 -0.075095  \n",
      "odor                       -0.043623 -0.026610  \n",
      "gill-attachment             0.165575 -0.030304  \n",
      "gill-spacing               -0.529253 -0.154680  \n",
      "gill-size                   0.147682  0.161418  \n",
      "gill-color                 -0.034090 -0.202972  \n",
      "stalk-shape                 0.087383 -0.269216  \n",
      "stalk-root                 -0.306747 -0.007668  \n",
      "stalk-surface-above-ring    0.079604 -0.058076  \n",
      "stalk-surface-below-ring    0.046797 -0.039628  \n",
      "stalk-color-above-ring     -0.240261  0.042561  \n",
      "stalk-color-below-ring     -0.242792  0.041594  \n",
      "veil-type                        NaN       NaN  \n",
      "veil-color                  0.124924 -0.040581  \n",
      "ring-number                -0.242020  0.235835  \n",
      "ring-type                   0.211763 -0.212080  \n",
      "spore-print-color          -0.126859  0.185954  \n",
      "population                  1.000000 -0.174529  \n",
      "habitat                    -0.174529  1.000000  \n",
      "\n",
      "[23 rows x 23 columns]\n"
     ]
    }
   ],
   "source": [
    "print(df.corr())\n",
    "# We see that veil-type is not related to any other column, so we disregard this feature\n",
    "df.drop('veil-type', axis=1, inplace=True)"
   ]
  },
  {
   "cell_type": "code",
   "execution_count": 6,
   "metadata": {},
   "outputs": [],
   "source": [
    "# Get the feature and output\n",
    "y = np.array(df.iloc[:,0])\n",
    "x = np.array(df.iloc[:, 1:])"
   ]
  },
  {
   "cell_type": "markdown",
   "metadata": {},
   "source": [
    "##  Data Pre-Processing\n",
    "Scale before splitting the data into train and test- scale the data since we will be using gradient ascent"
   ]
  },
  {
   "cell_type": "code",
   "execution_count": 7,
   "metadata": {},
   "outputs": [
    {
     "name": "stdout",
     "output_type": "stream",
     "text": [
      "[[5 2 8 ... 2 0 1]\n",
      " [2 0 2 ... 3 5 0]\n",
      " [5 3 4 ... 7 4 0]\n",
      " ...\n",
      " [2 0 8 ... 2 3 1]\n",
      " [5 0 3 ... 1 4 1]\n",
      " [5 3 3 ... 2 5 0]]\n"
     ]
    }
   ],
   "source": [
    "# Split the data into traning and test set\n",
    "x_train, x_test, y_train, y_test = train_test_split(x, y, test_size=0.25)\n",
    "print(x_train)"
   ]
  },
  {
   "cell_type": "markdown",
   "metadata": {},
   "source": [
    "## Logistic Regression without regularization"
   ]
  },
  {
   "cell_type": "code",
   "execution_count": 8,
   "metadata": {},
   "outputs": [],
   "source": [
    "def logreg_model(x_train, y_train, x_test, y_test):\n",
    "    # Fitting the model\n",
    "    logreg = LogisticRegression(penalty='none', max_iter=10000)\n",
    "    logreg.fit(x_train, y_train)\n",
    "    w = logreg.coef_\n",
    "    \n",
    "    # Getting the metrics for traning data\n",
    "    yhat_train = logreg.predict(x_train)\n",
    "    acc_train_logreg = np.mean(yhat_train == y_train)\n",
    "    \n",
    "    # Getting the metrics for test data\n",
    "    yhat_test = logreg.predict(x_test)\n",
    "    acc_test_logreg = np.mean(yhat_test == y_test)\n",
    "\n",
    "    return acc_train_logreg, acc_test_logreg, w"
   ]
  },
  {
   "cell_type": "code",
   "execution_count": 42,
   "metadata": {},
   "outputs": [
    {
     "name": "stdout",
     "output_type": "stream",
     "text": [
      "Accuracy of training data:  0.9688166748728049\n",
      "Accuracy of test data:  0.9739044805514525\n"
     ]
    }
   ],
   "source": [
    "acc_train_logreg, acc_test_logreg, w_logreg = logreg_model(x_train, y_train, x_test, y_test)\n",
    "\n",
    "print(\"Accuracy of training data: \", acc_train_logreg)\n",
    "print(\"Accuracy of test data: \", acc_test_logreg)\n",
    "\n",
    "# Note: C value does not affect the output as there is no regularization"
   ]
  },
  {
   "cell_type": "markdown",
   "metadata": {},
   "source": [
    "## Logistic Regression using L1 regularization"
   ]
  },
  {
   "cell_type": "code",
   "execution_count": 10,
   "metadata": {},
   "outputs": [],
   "source": [
    "def logreg_model_l1(c , x_train, y_train, x_test, y_test, train_acc, test_acc):\n",
    "    # Fitting the model\n",
    "    logreg = LogisticRegression(C=c, penalty='l1', solver='saga', max_iter=10000)\n",
    "    logreg.fit(x_train, y_train)\n",
    "    w = logreg.coef_\n",
    "    \n",
    "    # Getting the metrics for traning data\n",
    "    yhat_train = logreg.predict(x_train)\n",
    "    acc_train = np.mean(yhat_train == y_train)\n",
    "    train_acc.append(acc_train)\n",
    "    \n",
    "    # Getting the metrics for test data\n",
    "    yhat_test = logreg.predict(x_test)\n",
    "    acc_test = np.mean(yhat_test == y_test)\n",
    "    test_acc.append(acc_test)\n",
    "    \n",
    "    return w"
   ]
  },
  {
   "cell_type": "code",
   "execution_count": 43,
   "metadata": {},
   "outputs": [
    {
     "name": "stdout",
     "output_type": "stream",
     "text": [
      "Accuracy of training data:  [0.5128836369604464, 0.7528311176760216, 0.913835548990645, 0.9448547513540128, 0.9584769407516822, 0.9675036927621861, 0.9671754472345314, 0.9671754472345314, 0.9671754472345314, 0.9671754472345314]\n",
      "Accuracy of test data:  [0.5332348596750369, 0.7646479566715904, 0.9217134416543574, 0.9542097488921714, 0.9640571147218119, 0.9709502708025604, 0.9709502708025604, 0.9709502708025604, 0.9709502708025604, 0.9709502708025604]\n"
     ]
    }
   ],
   "source": [
    "acc_train_logreg_l1 = [] \n",
    "acc_test_logreg_l1 = []\n",
    "\n",
    "cVals = [0.0001, 0.001, 0.01, 0.1, 1, 10, 100, 1000, 10000, 100000]\n",
    "for c in cVals:\n",
    "    w_logreg_l1 = logreg_model_l1(c, x_train, y_train, x_test, y_test, acc_train_logreg_l1, acc_test_logreg_l1)\n",
    "\n",
    "print(\"Accuracy of training data: \", acc_train_logreg_l1)\n",
    "print(\"Accuracy of test data: \", acc_test_logreg_l1)"
   ]
  },
  {
   "cell_type": "code",
   "execution_count": 12,
   "metadata": {},
   "outputs": [
    {
     "data": {
      "text/plain": [
       "<matplotlib.legend.Legend at 0x7fb0ab2b2b80>"
      ]
     },
     "execution_count": 12,
     "metadata": {},
     "output_type": "execute_result"
    },
    {
     "data": {
      "image/png": "[encoded data removed]",
      "text/plain": [
       "<Figure size 432x288 with 1 Axes>"
      ]
     },
     "metadata": {
      "needs_background": "light"
     },
     "output_type": "display_data"
    }
   ],
   "source": [
    "plt.scatter(cVals, acc_train_logreg_l1)\n",
    "plt.grid()\n",
    "\n",
    "plt.scatter(cVals, acc_test_logreg_l1)\n",
    "plt.grid()\n",
    "\n",
    "# Use the following function to have a legend\n",
    "plt.legend(['Training Accuracy', 'Test Accuracy'], loc='lower right')"
   ]
  },
  {
   "cell_type": "code",
   "execution_count": null,
   "metadata": {},
   "outputs": [],
   "source": []
  },
  {
   "cell_type": "markdown",
   "metadata": {},
   "source": [
    "## Logistic Regression using L2 regularization"
   ]
  },
  {
   "cell_type": "code",
   "execution_count": 13,
   "metadata": {},
   "outputs": [],
   "source": [
    "\n",
    "def logreg_model_l2(c , x_train, y_train, x_test, y_test, train_acc, test_acc):\n",
    "    # Fitting the model\n",
    "    logreg = LogisticRegression(C=c, penalty='l2', solver='saga', max_iter=10000)\n",
    "    logreg.fit(x_train, y_train)\n",
    "    w = logreg.coef_\n",
    "    \n",
    "    # Getting the metrics for traning data\n",
    "    yhat_train = logreg.predict(x_train)\n",
    "    acc_train = np.mean(yhat_train == y_train)\n",
    "    train_acc.append(acc_train)\n",
    "    \n",
    "    # Getting the metrics for test data\n",
    "    yhat_test = logreg.predict(x_test)\n",
    "    acc_test = np.mean(yhat_test == y_test)\n",
    "    test_acc.append(acc_test)\n",
    "    \n",
    "    return w"
   ]
  },
  {
   "cell_type": "code",
   "execution_count": 44,
   "metadata": {},
   "outputs": [
    {
     "name": "stdout",
     "output_type": "stream",
     "text": [
      "Accuracy of training data:  [0.8340718857705564, 0.8775644181848022, 0.908091252256688, 0.9374692269817824, 0.9487936976858691, 0.9574922041687182, 0.967011324470704, 0.9673395699983588, 0.9671754472345314, 0.9671754472345314]\n",
      "Accuracy of test data:  [0.8453963564746431, 0.8778926637124569, 0.914327917282127, 0.9463318562284588, 0.9556868537666174, 0.9645494830132939, 0.9689807976366323, 0.9709502708025604, 0.9709502708025604, 0.9709502708025604]\n"
     ]
    }
   ],
   "source": [
    "acc_train_logreg_l2 = [] \n",
    "acc_test_logreg_l2 = []\n",
    "\n",
    "cVals = [0.0001, 0.001, 0.01, 0.1, 1, 10, 100, 1000, 10000, 100000]\n",
    "for c in cVals:\n",
    "    w_logreg_l2 = logreg_model_l2(c, x_train, y_train, x_test, y_test, acc_train_logreg_l2, acc_test_logreg_l2)\n",
    "\n",
    "print(\"Accuracy of training data: \", acc_train_logreg_l2)\n",
    "print(\"Accuracy of test data: \", acc_test_logreg_l2)"
   ]
  },
  {
   "cell_type": "code",
   "execution_count": 15,
   "metadata": {},
   "outputs": [
    {
     "data": {
      "text/plain": [
       "<matplotlib.legend.Legend at 0x7fb0a91567f0>"
      ]
     },
     "execution_count": 15,
     "metadata": {},
     "output_type": "execute_result"
    },
    {
     "data": {
      "image/png": "[encoded data removed]",
      "text/plain": [
       "<Figure size 432x288 with 1 Axes>"
      ]
     },
     "metadata": {
      "needs_background": "light"
     },
     "output_type": "display_data"
    }
   ],
   "source": [
    "plt.scatter(cVals, acc_train_logreg_l2)\n",
    "plt.grid()\n",
    "\n",
    "plt.scatter(cVals, acc_test_logreg_l2)\n",
    "plt.grid()\n",
    "\n",
    "# Use the following function to have a legend\n",
    "plt.legend(['Training Accuracy', 'Test Accuracy'], loc='lower right')"
   ]
  },
  {
   "cell_type": "markdown",
   "metadata": {},
   "source": [
    "## Logistic Regression with Feature Transformation"
   ]
  },
  {
   "cell_type": "code",
   "execution_count": 16,
   "metadata": {},
   "outputs": [],
   "source": [
    "from sklearn.preprocessing import PolynomialFeatures\n",
    "\n",
    "poly = PolynomialFeatures(2)\n",
    "\n",
    "# Transform the freatures\n",
    "x_transformed_train = poly.fit_transform(x_train)\n",
    "x_transformed_test = poly.fit_transform(x_test)"
   ]
  },
  {
   "cell_type": "code",
   "execution_count": 18,
   "metadata": {},
   "outputs": [
    {
     "name": "stdout",
     "output_type": "stream",
     "text": [
      "Accuracy of training data:  1.0\n",
      "Accuracy of test data:  0.999507631708518\n"
     ]
    }
   ],
   "source": [
    "acc_train_logreg_ft, acc_test_logreg_ft, w = logreg_model(x_transformed_train, y_train, x_transformed_test, y_test)\n",
    "\n",
    "print(\"Accuracy of training data: \", acc_train_logreg_ft)\n",
    "print(\"Accuracy of test data: \", acc_test_logreg_ft)"
   ]
  },
  {
   "cell_type": "code",
   "execution_count": 19,
   "metadata": {},
   "outputs": [
    {
     "name": "stdout",
     "output_type": "stream",
     "text": [
      "Accuracy of training data:  [0.794682422451994, 0.9061217790907599, 0.9876907927129492, 1.0, 1.0, 1.0, 1.0, 1.0, 1.0, 1.0]\n",
      "Accuracy of test data:  [0.8005908419497785, 0.9153126538650911, 0.9921221073362876, 1.0, 1.0, 1.0, 1.0, 1.0, 1.0, 1.0]\n"
     ]
    }
   ],
   "source": [
    "acc_train_logreg_ft_l1 = []\n",
    "acc_test_logreg_ft_l1 = []\n",
    "\n",
    "cVals = [0.0001, 0.001, 0.01, 0.1, 1, 10, 100, 1000, 10000, 100000]\n",
    "for c in cVals:\n",
    "    logreg_model_l1(c, x_transformed_train, y_train, x_transformed_test, y_test, acc_train_logreg_ft_l1, acc_test_logreg_ft_l1)\n",
    "\n",
    "print(\"Accuracy of training data: \", acc_train_logreg_ft_l1)\n",
    "print(\"Accuracy of test data: \", acc_test_logreg_ft_l1)"
   ]
  },
  {
   "cell_type": "code",
   "execution_count": 20,
   "metadata": {},
   "outputs": [
    {
     "data": {
      "text/plain": [
       "<matplotlib.legend.Legend at 0x7fb0a80a3310>"
      ]
     },
     "execution_count": 20,
     "metadata": {},
     "output_type": "execute_result"
    },
    {
     "data": {
      "image/png": "[encoded data removed]",
      "text/plain": [
       "<Figure size 432x288 with 1 Axes>"
      ]
     },
     "metadata": {
      "needs_background": "light"
     },
     "output_type": "display_data"
    }
   ],
   "source": [
    "plt.scatter(cVals, acc_train_logreg_ft_l1)\n",
    "plt.grid()\n",
    "\n",
    "plt.scatter(cVals, acc_test_logreg_ft_l1)\n",
    "plt.grid()\n",
    "\n",
    "# Use the following function to have a legend\n",
    "plt.legend(['Training Accuracy', 'Test Accuracy'], loc='lower right')"
   ]
  },
  {
   "cell_type": "code",
   "execution_count": 21,
   "metadata": {},
   "outputs": [
    {
     "name": "stdout",
     "output_type": "stream",
     "text": [
      "Accuracy of training data:  [0.9584769407516822, 0.9909732479894962, 0.9996717544723454, 1.0, 1.0, 1.0, 1.0, 1.0, 1.0, 1.0]\n",
      "Accuracy of test data:  [0.9650418513047759, 0.9940915805022157, 0.999507631708518, 1.0, 1.0, 1.0, 1.0, 1.0, 1.0, 1.0]\n"
     ]
    }
   ],
   "source": [
    "acc_train_logreg_ft_l2 = []\n",
    "acc_test_logreg_ft_l2 = []\n",
    "\n",
    "cVals = [0.0001, 0.001, 0.01, 0.1, 1, 10, 100, 1000, 10000, 100000]\n",
    "for c in cVals:\n",
    "    logreg_model_l2(c, x_transformed_train, y_train, x_transformed_test, y_test, acc_train_logreg_ft_l2, acc_test_logreg_ft_l2)\n",
    "\n",
    "print(\"Accuracy of training data: \", acc_train_logreg_ft_l2)\n",
    "print(\"Accuracy of test data: \", acc_test_logreg_ft_l2)"
   ]
  },
  {
   "cell_type": "code",
   "execution_count": 22,
   "metadata": {},
   "outputs": [
    {
     "data": {
      "text/plain": [
       "<matplotlib.legend.Legend at 0x7fb0a807a6a0>"
      ]
     },
     "execution_count": 22,
     "metadata": {},
     "output_type": "execute_result"
    },
    {
     "data": {
      "image/png": "[encoded data removed]",
      "text/plain": [
       "<Figure size 432x288 with 1 Axes>"
      ]
     },
     "metadata": {
      "needs_background": "light"
     },
     "output_type": "display_data"
    }
   ],
   "source": [
    "plt.scatter(cVals, acc_train_logreg_ft_l2)\n",
    "plt.grid()\n",
    "\n",
    "plt.scatter(cVals, acc_test_logreg_ft_l2)\n",
    "plt.grid()\n",
    "\n",
    "# Use the following function to have a legend\n",
    "plt.legend(['Training Accuracy', 'Test Accuracy'], loc='lower right')"
   ]
  },
  {
   "cell_type": "markdown",
   "metadata": {},
   "source": [
    "## Results"
   ]
  },
  {
   "cell_type": "code",
   "execution_count": 23,
   "metadata": {},
   "outputs": [
    {
     "data": {
      "text/html": [
       "<div>\n",
       "<style scoped>\n",
       "    .dataframe tbody tr th:only-of-type {\n",
       "        vertical-align: middle;\n",
       "    }\n",
       "\n",
       "    .dataframe tbody tr th {\n",
       "        vertical-align: top;\n",
       "    }\n",
       "\n",
       "    .dataframe thead th {\n",
       "        text-align: right;\n",
       "    }\n",
       "</style>\n",
       "<table border=\"1\" class=\"dataframe\">\n",
       "  <thead>\n",
       "    <tr style=\"text-align: right;\">\n",
       "      <th></th>\n",
       "      <th></th>\n",
       "    </tr>\n",
       "  </thead>\n",
       "  <tbody>\n",
       "    <tr>\n",
       "      <th>Training</th>\n",
       "      <td>0.968817</td>\n",
       "    </tr>\n",
       "    <tr>\n",
       "      <th>Test</th>\n",
       "      <td>0.973904</td>\n",
       "    </tr>\n",
       "    <tr>\n",
       "      <th>Training FT</th>\n",
       "      <td>1.000000</td>\n",
       "    </tr>\n",
       "    <tr>\n",
       "      <th>Test FT</th>\n",
       "      <td>0.999508</td>\n",
       "    </tr>\n",
       "  </tbody>\n",
       "</table>\n",
       "</div>"
      ],
      "text/plain": [
       "                     \n",
       "Training     0.968817\n",
       "Test         0.973904\n",
       "Training FT  1.000000\n",
       "Test FT      0.999508"
      ]
     },
     "execution_count": 23,
     "metadata": {},
     "output_type": "execute_result"
    }
   ],
   "source": [
    "data = pd.DataFrame(np.array([acc_train_logreg, acc_test_logreg, acc_train_logreg_ft, acc_test_logreg_ft]), index=['Training', 'Test', 'Training FT', 'Test FT'], columns=[''])\n",
    "data\n"
   ]
  },
  {
   "cell_type": "code",
   "execution_count": 24,
   "metadata": {},
   "outputs": [
    {
     "data": {
      "text/html": [
       "<div>\n",
       "<style scoped>\n",
       "    .dataframe tbody tr th:only-of-type {\n",
       "        vertical-align: middle;\n",
       "    }\n",
       "\n",
       "    .dataframe tbody tr th {\n",
       "        vertical-align: top;\n",
       "    }\n",
       "\n",
       "    .dataframe thead th {\n",
       "        text-align: right;\n",
       "    }\n",
       "</style>\n",
       "<table border=\"1\" class=\"dataframe\">\n",
       "  <thead>\n",
       "    <tr style=\"text-align: right;\">\n",
       "      <th></th>\n",
       "      <th>0.0001</th>\n",
       "      <th>0.0010</th>\n",
       "      <th>0.0100</th>\n",
       "      <th>0.1000</th>\n",
       "      <th>1.0000</th>\n",
       "      <th>10.0000</th>\n",
       "      <th>100.0000</th>\n",
       "      <th>1000.0000</th>\n",
       "      <th>10000.0000</th>\n",
       "      <th>100000.0000</th>\n",
       "    </tr>\n",
       "  </thead>\n",
       "  <tbody>\n",
       "    <tr>\n",
       "      <th>Training L1</th>\n",
       "      <td>0.512884</td>\n",
       "      <td>0.752831</td>\n",
       "      <td>0.913836</td>\n",
       "      <td>0.944855</td>\n",
       "      <td>0.958477</td>\n",
       "      <td>0.967504</td>\n",
       "      <td>0.967175</td>\n",
       "      <td>0.967175</td>\n",
       "      <td>0.967175</td>\n",
       "      <td>0.967175</td>\n",
       "    </tr>\n",
       "    <tr>\n",
       "      <th>Test L1</th>\n",
       "      <td>0.533235</td>\n",
       "      <td>0.764648</td>\n",
       "      <td>0.921713</td>\n",
       "      <td>0.954210</td>\n",
       "      <td>0.964057</td>\n",
       "      <td>0.970950</td>\n",
       "      <td>0.970950</td>\n",
       "      <td>0.970950</td>\n",
       "      <td>0.970950</td>\n",
       "      <td>0.970950</td>\n",
       "    </tr>\n",
       "    <tr>\n",
       "      <th>Training L2</th>\n",
       "      <td>0.834072</td>\n",
       "      <td>0.877564</td>\n",
       "      <td>0.908091</td>\n",
       "      <td>0.937469</td>\n",
       "      <td>0.948794</td>\n",
       "      <td>0.957492</td>\n",
       "      <td>0.967011</td>\n",
       "      <td>0.967340</td>\n",
       "      <td>0.967175</td>\n",
       "      <td>0.967175</td>\n",
       "    </tr>\n",
       "    <tr>\n",
       "      <th>Test L2</th>\n",
       "      <td>0.845396</td>\n",
       "      <td>0.877893</td>\n",
       "      <td>0.913836</td>\n",
       "      <td>0.946332</td>\n",
       "      <td>0.955687</td>\n",
       "      <td>0.964549</td>\n",
       "      <td>0.968981</td>\n",
       "      <td>0.970950</td>\n",
       "      <td>0.970950</td>\n",
       "      <td>0.970950</td>\n",
       "    </tr>\n",
       "    <tr>\n",
       "      <th>Train FT L1</th>\n",
       "      <td>0.794682</td>\n",
       "      <td>0.906122</td>\n",
       "      <td>0.987691</td>\n",
       "      <td>1.000000</td>\n",
       "      <td>1.000000</td>\n",
       "      <td>1.000000</td>\n",
       "      <td>1.000000</td>\n",
       "      <td>1.000000</td>\n",
       "      <td>1.000000</td>\n",
       "      <td>1.000000</td>\n",
       "    </tr>\n",
       "    <tr>\n",
       "      <th>Test FT L1</th>\n",
       "      <td>0.800591</td>\n",
       "      <td>0.915313</td>\n",
       "      <td>0.992122</td>\n",
       "      <td>1.000000</td>\n",
       "      <td>1.000000</td>\n",
       "      <td>1.000000</td>\n",
       "      <td>1.000000</td>\n",
       "      <td>1.000000</td>\n",
       "      <td>1.000000</td>\n",
       "      <td>1.000000</td>\n",
       "    </tr>\n",
       "    <tr>\n",
       "      <th>Train FT L2</th>\n",
       "      <td>0.958477</td>\n",
       "      <td>0.990973</td>\n",
       "      <td>0.999672</td>\n",
       "      <td>1.000000</td>\n",
       "      <td>1.000000</td>\n",
       "      <td>1.000000</td>\n",
       "      <td>1.000000</td>\n",
       "      <td>1.000000</td>\n",
       "      <td>1.000000</td>\n",
       "      <td>1.000000</td>\n",
       "    </tr>\n",
       "    <tr>\n",
       "      <th>Test FT L2</th>\n",
       "      <td>0.965042</td>\n",
       "      <td>0.994092</td>\n",
       "      <td>0.999508</td>\n",
       "      <td>1.000000</td>\n",
       "      <td>1.000000</td>\n",
       "      <td>1.000000</td>\n",
       "      <td>1.000000</td>\n",
       "      <td>1.000000</td>\n",
       "      <td>1.000000</td>\n",
       "      <td>1.000000</td>\n",
       "    </tr>\n",
       "  </tbody>\n",
       "</table>\n",
       "</div>"
      ],
      "text/plain": [
       "             0.0001       0.0010       0.0100       0.1000       1.0000       \\\n",
       "Training L1     0.512884     0.752831     0.913836     0.944855     0.958477   \n",
       "Test L1         0.533235     0.764648     0.921713     0.954210     0.964057   \n",
       "Training L2     0.834072     0.877564     0.908091     0.937469     0.948794   \n",
       "Test L2         0.845396     0.877893     0.913836     0.946332     0.955687   \n",
       "Train FT L1     0.794682     0.906122     0.987691     1.000000     1.000000   \n",
       "Test FT L1      0.800591     0.915313     0.992122     1.000000     1.000000   \n",
       "Train FT L2     0.958477     0.990973     0.999672     1.000000     1.000000   \n",
       "Test FT L2      0.965042     0.994092     0.999508     1.000000     1.000000   \n",
       "\n",
       "             10.0000      100.0000     1000.0000    10000.0000   100000.0000  \n",
       "Training L1     0.967504     0.967175     0.967175     0.967175     0.967175  \n",
       "Test L1         0.970950     0.970950     0.970950     0.970950     0.970950  \n",
       "Training L2     0.957492     0.967011     0.967340     0.967175     0.967175  \n",
       "Test L2         0.964549     0.968981     0.970950     0.970950     0.970950  \n",
       "Train FT L1     1.000000     1.000000     1.000000     1.000000     1.000000  \n",
       "Test FT L1      1.000000     1.000000     1.000000     1.000000     1.000000  \n",
       "Train FT L2     1.000000     1.000000     1.000000     1.000000     1.000000  \n",
       "Test FT L2      1.000000     1.000000     1.000000     1.000000     1.000000  "
      ]
     },
     "execution_count": 24,
     "metadata": {},
     "output_type": "execute_result"
    }
   ],
   "source": [
    "data_regularization = pd.DataFrame(np.array([acc_train_logreg_l1, acc_test_logreg_l1, acc_train_logreg_l2, acc_test_logreg_l2, acc_train_logreg_ft_l1, acc_test_logreg_ft_l1, acc_train_logreg_ft_l2, acc_test_logreg_ft_l2]), index=['Training L1', 'Test L1', 'Training L2', 'Test L2', 'Train FT L1', 'Test FT L1', 'Train FT L2', 'Test FT L2'], columns=cVals)\n",
    "data_regularization"
   ]
  },
  {
   "cell_type": "code",
   "execution_count": 49,
   "metadata": {},
   "outputs": [],
   "source": [
    "w_logreg = w_logreg[0]\n",
    "w_logreg_l1 = w_logreg_l1[0]\n",
    "w_logreg_l2 = w_logreg_l2[0]"
   ]
  },
  {
   "cell_type": "code",
   "execution_count": 53,
   "metadata": {},
   "outputs": [
    {
     "data": {
      "text/html": [
       "<div>\n",
       "<style scoped>\n",
       "    .dataframe tbody tr th:only-of-type {\n",
       "        vertical-align: middle;\n",
       "    }\n",
       "\n",
       "    .dataframe tbody tr th {\n",
       "        vertical-align: top;\n",
       "    }\n",
       "\n",
       "    .dataframe thead th {\n",
       "        text-align: right;\n",
       "    }\n",
       "</style>\n",
       "<table border=\"1\" class=\"dataframe\">\n",
       "  <thead>\n",
       "    <tr style=\"text-align: right;\">\n",
       "      <th></th>\n",
       "      <th>cap-shape</th>\n",
       "      <th>cap-surface</th>\n",
       "      <th>cap-color</th>\n",
       "      <th>bruises</th>\n",
       "      <th>odor</th>\n",
       "      <th>gill-attachment</th>\n",
       "      <th>gill-spacing</th>\n",
       "      <th>gill-size</th>\n",
       "      <th>gill-color</th>\n",
       "      <th>stalk-shape</th>\n",
       "      <th>stalk-root</th>\n",
       "      <th>stalk-surface-above-ring</th>\n",
       "      <th>stalk-surface-below-ring</th>\n",
       "      <th>stalk-color-above-ring</th>\n",
       "      <th>stalk-color-below-ring</th>\n",
       "      <th>veil-color</th>\n",
       "      <th>ring-number</th>\n",
       "      <th>ring-type</th>\n",
       "      <th>spore-print-color</th>\n",
       "      <th>population</th>\n",
       "      <th>habitat</th>\n",
       "    </tr>\n",
       "  </thead>\n",
       "  <tbody>\n",
       "    <tr>\n",
       "      <th>W</th>\n",
       "      <td>0.031611</td>\n",
       "      <td>0.311524</td>\n",
       "      <td>-0.123230</td>\n",
       "      <td>2.227868</td>\n",
       "      <td>-1.281194</td>\n",
       "      <td>-31.316795</td>\n",
       "      <td>-22.847466</td>\n",
       "      <td>21.094219</td>\n",
       "      <td>-0.194328</td>\n",
       "      <td>-2.116753</td>\n",
       "      <td>-8.769794</td>\n",
       "      <td>-12.766001</td>\n",
       "      <td>0.503333</td>\n",
       "      <td>-0.245796</td>\n",
       "      <td>-0.130253</td>\n",
       "      <td>51.783117</td>\n",
       "      <td>1.737817</td>\n",
       "      <td>4.771023</td>\n",
       "      <td>-0.114219</td>\n",
       "      <td>-1.211860</td>\n",
       "      <td>0.148228</td>\n",
       "    </tr>\n",
       "    <tr>\n",
       "      <th>W L1</th>\n",
       "      <td>0.003663</td>\n",
       "      <td>0.341205</td>\n",
       "      <td>-0.096625</td>\n",
       "      <td>1.434921</td>\n",
       "      <td>-1.081052</td>\n",
       "      <td>-22.596863</td>\n",
       "      <td>-18.701721</td>\n",
       "      <td>17.511917</td>\n",
       "      <td>-0.159143</td>\n",
       "      <td>-1.590060</td>\n",
       "      <td>-6.984467</td>\n",
       "      <td>-10.423404</td>\n",
       "      <td>0.328081</td>\n",
       "      <td>-0.216523</td>\n",
       "      <td>-0.104085</td>\n",
       "      <td>35.582033</td>\n",
       "      <td>1.811025</td>\n",
       "      <td>3.705262</td>\n",
       "      <td>-0.175242</td>\n",
       "      <td>-1.048125</td>\n",
       "      <td>0.116777</td>\n",
       "    </tr>\n",
       "    <tr>\n",
       "      <th>W L2</th>\n",
       "      <td>0.003634</td>\n",
       "      <td>0.341235</td>\n",
       "      <td>-0.096599</td>\n",
       "      <td>1.434351</td>\n",
       "      <td>-1.080918</td>\n",
       "      <td>-22.591103</td>\n",
       "      <td>-18.698967</td>\n",
       "      <td>17.509524</td>\n",
       "      <td>-0.159118</td>\n",
       "      <td>-1.589697</td>\n",
       "      <td>-6.983274</td>\n",
       "      <td>-10.421865</td>\n",
       "      <td>0.327966</td>\n",
       "      <td>-0.216496</td>\n",
       "      <td>-0.104058</td>\n",
       "      <td>35.575152</td>\n",
       "      <td>1.811039</td>\n",
       "      <td>3.704556</td>\n",
       "      <td>-0.175287</td>\n",
       "      <td>-1.048015</td>\n",
       "      <td>0.116753</td>\n",
       "    </tr>\n",
       "  </tbody>\n",
       "</table>\n",
       "</div>"
      ],
      "text/plain": [
       "      cap-shape  cap-surface  cap-color   bruises      odor  gill-attachment  \\\n",
       "W      0.031611     0.311524  -0.123230  2.227868 -1.281194       -31.316795   \n",
       "W L1   0.003663     0.341205  -0.096625  1.434921 -1.081052       -22.596863   \n",
       "W L2   0.003634     0.341235  -0.096599  1.434351 -1.080918       -22.591103   \n",
       "\n",
       "      gill-spacing  gill-size  gill-color  stalk-shape  stalk-root  \\\n",
       "W       -22.847466  21.094219   -0.194328    -2.116753   -8.769794   \n",
       "W L1    -18.701721  17.511917   -0.159143    -1.590060   -6.984467   \n",
       "W L2    -18.698967  17.509524   -0.159118    -1.589697   -6.983274   \n",
       "\n",
       "      stalk-surface-above-ring  stalk-surface-below-ring  \\\n",
       "W                   -12.766001                  0.503333   \n",
       "W L1                -10.423404                  0.328081   \n",
       "W L2                -10.421865                  0.327966   \n",
       "\n",
       "      stalk-color-above-ring  stalk-color-below-ring  veil-color  ring-number  \\\n",
       "W                  -0.245796               -0.130253   51.783117     1.737817   \n",
       "W L1               -0.216523               -0.104085   35.582033     1.811025   \n",
       "W L2               -0.216496               -0.104058   35.575152     1.811039   \n",
       "\n",
       "      ring-type  spore-print-color  population   habitat  \n",
       "W      4.771023          -0.114219   -1.211860  0.148228  \n",
       "W L1   3.705262          -0.175242   -1.048125  0.116777  \n",
       "W L2   3.704556          -0.175287   -1.048015  0.116753  "
      ]
     },
     "execution_count": 53,
     "metadata": {},
     "output_type": "execute_result"
    }
   ],
   "source": [
    "w_vals = pd.DataFrame([w_logreg, w_logreg_l1, w_logreg_l2], columns=df.columns[1:], index=['W', 'W L1', 'W L2'])\n",
    "pd.options.display.max_columns = None\n",
    "w_vals"
   ]
  },
  {
   "cell_type": "code",
   "execution_count": 64,
   "metadata": {},
   "outputs": [
    {
     "data": {
      "text/plain": [
       "<AxesSubplot:>"
      ]
     },
     "execution_count": 64,
     "metadata": {},
     "output_type": "execute_result"
    },
    {
     "data": {
      "image/png": "[encoded data removed]",
      "text/plain": [
       "<Figure size 1224x288 with 2 Axes>"
      ]
     },
     "metadata": {
      "needs_background": "light"
     },
     "output_type": "display_data"
    }
   ],
   "source": [
    "import seaborn as sbn\n",
    "fig = plt.gcf()\n",
    "fig.set_size_inches(17, 4)\n",
    "sbn.heatmap(w_vals,annot=True,cmap=plt.cm.Blues)"
   ]
  },
  {
   "cell_type": "code",
   "execution_count": null,
   "metadata": {},
   "outputs": [],
   "source": []
  }
 ],
 "metadata": {
  "kernelspec": {
   "display_name": "Python 3",
   "language": "python",
   "name": "python3"
  },
  "language_info": {
   "codemirror_mode": {
    "name": "ipython",
    "version": 3
   },
   "file_extension": ".py",
   "mimetype": "text/x-python",
   "name": "python",
   "nbconvert_exporter": "python",
   "pygments_lexer": "ipython3",
   "version": "3.8.5"
  }
 },
 "nbformat": 4,
 "nbformat_minor": 2
}
